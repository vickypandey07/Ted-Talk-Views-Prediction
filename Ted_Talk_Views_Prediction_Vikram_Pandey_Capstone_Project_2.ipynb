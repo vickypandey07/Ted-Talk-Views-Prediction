{
  "nbformat": 4,
  "nbformat_minor": 0,
  "metadata": {
    "colab": {
      "name": "Ted_Talk_Views_Prediction_Vikram_Pandey_Capstone_Project_2.ipynb",
      "provenance": [],
      "collapsed_sections": [],
      "mount_file_id": "1H9HvWeUcIQ3QLmy2fSCp8rAAmMmo243R",
      "authorship_tag": "ABX9TyN/8ICtru/kEOgyX6QC9xGv",
      "include_colab_link": true
    },
    "kernelspec": {
      "name": "python3",
      "display_name": "Python 3"
    },
    "language_info": {
      "name": "python"
    }
  },
  "cells": [
    {
      "cell_type": "markdown",
      "metadata": {
        "id": "view-in-github",
        "colab_type": "text"
      },
      "source": [
        "<a href=\"https://colab.research.google.com/github/vickypandey07/Ted_Talk_Views_Prediction/blob/main/Ted_Talk_Views_Prediction_Vikram_Pandey_Capstone_Project_2.ipynb\" target=\"_parent\"><img src=\"https://colab.research.google.com/assets/colab-badge.svg\" alt=\"Open In Colab\"/></a>"
      ]
    },
    {
      "cell_type": "markdown",
      "metadata": {
        "id": "mX_yX8MtgqTQ"
      },
      "source": [
        "###**TED is devoted to spreading powerful ideas on just about any topic. These datasets contain over 4,000 TED talks including transcripts in many languages Founded in 1984 by Richard Salman as a nonprofit organization that aimed at bringing experts from the fields of Technology, Entertainment, and Design together, TED Conferences have gone on to become the Mecca of ideas from virtually all walks of life. As of 2015, TED and its sister TEDx chapters have published more than 2000 talks for free consumption by the masses and its speaker list boasts of the likes of Al Gore, Jimmy Wales, Shahrukh Khan, and Bill Gates.**\n",
        "---\n",
        "###**Dataset Information**\n",
        "* Number of instances: 4,005\n",
        "* Number of attributes: 19\n",
        "---\n",
        "###**Features information:**\n",
        "###The dataset contains features like:\n",
        "\n",
        "* **talk_id**: Talk identification number provided by TED\n",
        "* **title**: Title of the talk\n",
        "* **speaker_1**: First speaker in TED's speaker list\n",
        "* **all_speakers**: Speakers in the talk\n",
        "* **occupations**: Occupations of the speakers\n",
        "* **about_speakers**: Blurb about each speaker\n",
        "* **recorded_date**: Date the talk was recorded\n",
        "* **published_date**: Date the talk was published to TED.com\n",
        "* **event**: Event or medium in which the talk was given\n",
        "* **native_lang**: Language the talk was given in\n",
        "* **available_lang**: All available languages (lang_code) for a talk\n",
        "* **comments**: Count of comments\n",
        "* **duration**: Duration in seconds\n",
        "* **topics**: Related tags or topics for the talk\n",
        "* **related_talks**: Related talks (key='talk_id',value='title')\n",
        "* **url**: URL of the talk\n",
        "* **description**: Description of the talk\n",
        "* **transcript**: Full transcript of the talk\n",
        "---\n",
        "###**Target Variable :**\n",
        "* **'views'**: Count of views\n",
        "---\n",
        "###**Goal: The main objective is to build a predictive model, which could help in predicting the views of the videos uploaded on the TEDx website.**"
      ]
    },
    {
      "cell_type": "code",
      "metadata": {
        "id": "KLsZPmSTgTfF"
      },
      "source": [
        "# Importing libraries\n",
        "\n",
        "import pandas as pd\n",
        "import numpy as np\n",
        "from datetime import datetime\n",
        "import seaborn as sns\n",
        "import matplotlib.pyplot as plt\n",
        "%matplotlib inline\n",
        "\n",
        "# To ignore warnings\n",
        "import warnings\n",
        "warnings.filterwarnings('ignore')"
      ],
      "execution_count": 1,
      "outputs": []
    },
    {
      "cell_type": "code",
      "metadata": {
        "id": "6FRn55KCg1ta"
      },
      "source": [
        "# Loading dataset and creating dataframe\n",
        "df = pd.read_csv('/content/drive/MyDrive/data_ted_talks.csv')"
      ],
      "execution_count": 2,
      "outputs": []
    },
    {
      "cell_type": "markdown",
      "metadata": {
        "id": "BnhkAykzoZGx"
      },
      "source": [
        "# Firstly i do some Exploratory Data Analysis."
      ]
    },
    {
      "cell_type": "code",
      "metadata": {
        "colab": {
          "base_uri": "https://localhost:8080/"
        },
        "id": "dT1snDkihm1t",
        "outputId": "a3654f9a-3edf-40b8-e99c-d497c435ccfc"
      },
      "source": [
        "#Here checking the basic info about the data set.\n",
        "df.info()"
      ],
      "execution_count": 5,
      "outputs": [
        {
          "output_type": "stream",
          "name": "stdout",
          "text": [
            "<class 'pandas.core.frame.DataFrame'>\n",
            "RangeIndex: 4005 entries, 0 to 4004\n",
            "Data columns (total 19 columns):\n",
            " #   Column          Non-Null Count  Dtype  \n",
            "---  ------          --------------  -----  \n",
            " 0   talk_id         4005 non-null   int64  \n",
            " 1   title           4005 non-null   object \n",
            " 2   speaker_1       4005 non-null   object \n",
            " 3   all_speakers    4001 non-null   object \n",
            " 4   occupations     3483 non-null   object \n",
            " 5   about_speakers  3502 non-null   object \n",
            " 6   views           4005 non-null   int64  \n",
            " 7   recorded_date   4004 non-null   object \n",
            " 8   published_date  4005 non-null   object \n",
            " 9   event           4005 non-null   object \n",
            " 10  native_lang     4005 non-null   object \n",
            " 11  available_lang  4005 non-null   object \n",
            " 12  comments        3350 non-null   float64\n",
            " 13  duration        4005 non-null   int64  \n",
            " 14  topics          4005 non-null   object \n",
            " 15  related_talks   4005 non-null   object \n",
            " 16  url             4005 non-null   object \n",
            " 17  description     4005 non-null   object \n",
            " 18  transcript      4005 non-null   object \n",
            "dtypes: float64(1), int64(3), object(15)\n",
            "memory usage: 594.6+ KB\n"
          ]
        }
      ]
    },
    {
      "cell_type": "markdown",
      "metadata": {
        "id": "JhFduboyo_oy"
      },
      "source": [
        "\n",
        "\n",
        "## .   It is found that, we have only 4 numerical columns and rest all columns are either categorical or they contains textual data in our dataset,.\n",
        "## .   Out of 4 numerical columns, 1 is target variable.\n",
        "\n",
        "# .Threrfore, we need to create some numerical columns from columns of object dtype.\n",
        "\n"
      ]
    },
    {
      "cell_type": "code",
      "metadata": {
        "colab": {
          "base_uri": "https://localhost:8080/",
          "height": 1000
        },
        "id": "l-new5s3hsiz",
        "outputId": "14ba6f10-421b-4eb9-c6ad-cf7455597a74"
      },
      "source": [
        " #first 10 rows of dataset using head()\n",
        " df.head(10)"
      ],
      "execution_count": 6,
      "outputs": [
        {
          "output_type": "execute_result",
          "data": {
            "text/html": [
              "<div>\n",
              "<style scoped>\n",
              "    .dataframe tbody tr th:only-of-type {\n",
              "        vertical-align: middle;\n",
              "    }\n",
              "\n",
              "    .dataframe tbody tr th {\n",
              "        vertical-align: top;\n",
              "    }\n",
              "\n",
              "    .dataframe thead th {\n",
              "        text-align: right;\n",
              "    }\n",
              "</style>\n",
              "<table border=\"1\" class=\"dataframe\">\n",
              "  <thead>\n",
              "    <tr style=\"text-align: right;\">\n",
              "      <th></th>\n",
              "      <th>talk_id</th>\n",
              "      <th>title</th>\n",
              "      <th>speaker_1</th>\n",
              "      <th>all_speakers</th>\n",
              "      <th>occupations</th>\n",
              "      <th>about_speakers</th>\n",
              "      <th>views</th>\n",
              "      <th>recorded_date</th>\n",
              "      <th>published_date</th>\n",
              "      <th>event</th>\n",
              "      <th>native_lang</th>\n",
              "      <th>available_lang</th>\n",
              "      <th>comments</th>\n",
              "      <th>duration</th>\n",
              "      <th>topics</th>\n",
              "      <th>related_talks</th>\n",
              "      <th>url</th>\n",
              "      <th>description</th>\n",
              "      <th>transcript</th>\n",
              "    </tr>\n",
              "  </thead>\n",
              "  <tbody>\n",
              "    <tr>\n",
              "      <th>0</th>\n",
              "      <td>1</td>\n",
              "      <td>Averting the climate crisis</td>\n",
              "      <td>Al Gore</td>\n",
              "      <td>{0: 'Al Gore'}</td>\n",
              "      <td>{0: ['climate advocate']}</td>\n",
              "      <td>{0: 'Nobel Laureate Al Gore focused the world’...</td>\n",
              "      <td>3523392</td>\n",
              "      <td>2006-02-25</td>\n",
              "      <td>2006-06-27</td>\n",
              "      <td>TED2006</td>\n",
              "      <td>en</td>\n",
              "      <td>['ar', 'bg', 'cs', 'de', 'el', 'en', 'es', 'fa...</td>\n",
              "      <td>272.0</td>\n",
              "      <td>977</td>\n",
              "      <td>['alternative energy', 'cars', 'climate change...</td>\n",
              "      <td>{243: 'New thinking on the climate crisis', 54...</td>\n",
              "      <td>https://www.ted.com/talks/al_gore_averting_the...</td>\n",
              "      <td>With the same humor and humanity he exuded in ...</td>\n",
              "      <td>Thank you so much, Chris. And it's truly a gre...</td>\n",
              "    </tr>\n",
              "    <tr>\n",
              "      <th>1</th>\n",
              "      <td>92</td>\n",
              "      <td>The best stats you've ever seen</td>\n",
              "      <td>Hans Rosling</td>\n",
              "      <td>{0: 'Hans Rosling'}</td>\n",
              "      <td>{0: ['global health expert; data visionary']}</td>\n",
              "      <td>{0: 'In Hans Rosling’s hands, data sings. Glob...</td>\n",
              "      <td>14501685</td>\n",
              "      <td>2006-02-22</td>\n",
              "      <td>2006-06-27</td>\n",
              "      <td>TED2006</td>\n",
              "      <td>en</td>\n",
              "      <td>['ar', 'az', 'bg', 'bn', 'bs', 'cs', 'da', 'de...</td>\n",
              "      <td>628.0</td>\n",
              "      <td>1190</td>\n",
              "      <td>['Africa', 'Asia', 'Google', 'demo', 'economic...</td>\n",
              "      <td>{2056: \"Own your body's data\", 2296: 'A visual...</td>\n",
              "      <td>https://www.ted.com/talks/hans_rosling_the_bes...</td>\n",
              "      <td>You've never seen data presented like this. Wi...</td>\n",
              "      <td>About 10 years ago, I took on the task to teac...</td>\n",
              "    </tr>\n",
              "    <tr>\n",
              "      <th>2</th>\n",
              "      <td>7</td>\n",
              "      <td>Simplicity sells</td>\n",
              "      <td>David Pogue</td>\n",
              "      <td>{0: 'David Pogue'}</td>\n",
              "      <td>{0: ['technology columnist']}</td>\n",
              "      <td>{0: 'David Pogue is the personal technology co...</td>\n",
              "      <td>1920832</td>\n",
              "      <td>2006-02-24</td>\n",
              "      <td>2006-06-27</td>\n",
              "      <td>TED2006</td>\n",
              "      <td>en</td>\n",
              "      <td>['ar', 'bg', 'de', 'el', 'en', 'es', 'fa', 'fr...</td>\n",
              "      <td>124.0</td>\n",
              "      <td>1286</td>\n",
              "      <td>['computers', 'entertainment', 'interface desi...</td>\n",
              "      <td>{1725: '10 top time-saving tech tips', 2274: '...</td>\n",
              "      <td>https://www.ted.com/talks/david_pogue_simplici...</td>\n",
              "      <td>New York Times columnist David Pogue takes aim...</td>\n",
              "      <td>(Music: \"The Sound of Silence,\" Simon &amp; Garfun...</td>\n",
              "    </tr>\n",
              "    <tr>\n",
              "      <th>3</th>\n",
              "      <td>53</td>\n",
              "      <td>Greening the ghetto</td>\n",
              "      <td>Majora Carter</td>\n",
              "      <td>{0: 'Majora Carter'}</td>\n",
              "      <td>{0: ['activist for environmental justice']}</td>\n",
              "      <td>{0: 'Majora Carter redefined the field of envi...</td>\n",
              "      <td>2664069</td>\n",
              "      <td>2006-02-26</td>\n",
              "      <td>2006-06-27</td>\n",
              "      <td>TED2006</td>\n",
              "      <td>en</td>\n",
              "      <td>['ar', 'bg', 'bn', 'ca', 'cs', 'de', 'en', 'es...</td>\n",
              "      <td>219.0</td>\n",
              "      <td>1116</td>\n",
              "      <td>['MacArthur grant', 'activism', 'business', 'c...</td>\n",
              "      <td>{1041: '3 stories of local eco-entrepreneurshi...</td>\n",
              "      <td>https://www.ted.com/talks/majora_carter_greeni...</td>\n",
              "      <td>In an emotionally charged talk, MacArthur-winn...</td>\n",
              "      <td>If you're here today — and I'm very happy that...</td>\n",
              "    </tr>\n",
              "    <tr>\n",
              "      <th>4</th>\n",
              "      <td>66</td>\n",
              "      <td>Do schools kill creativity?</td>\n",
              "      <td>Sir Ken Robinson</td>\n",
              "      <td>{0: 'Sir Ken Robinson'}</td>\n",
              "      <td>{0: ['author', 'educator']}</td>\n",
              "      <td>{0: \"Creativity expert Sir Ken Robinson challe...</td>\n",
              "      <td>65051954</td>\n",
              "      <td>2006-02-25</td>\n",
              "      <td>2006-06-27</td>\n",
              "      <td>TED2006</td>\n",
              "      <td>en</td>\n",
              "      <td>['af', 'ar', 'az', 'be', 'bg', 'bn', 'ca', 'cs...</td>\n",
              "      <td>4931.0</td>\n",
              "      <td>1164</td>\n",
              "      <td>['children', 'creativity', 'culture', 'dance',...</td>\n",
              "      <td>{865: 'Bring on the learning revolution!', 173...</td>\n",
              "      <td>https://www.ted.com/talks/sir_ken_robinson_do_...</td>\n",
              "      <td>Sir Ken Robinson makes an entertaining and pro...</td>\n",
              "      <td>Good morning. How are you? (Audience) Good. It...</td>\n",
              "    </tr>\n",
              "    <tr>\n",
              "      <th>5</th>\n",
              "      <td>49</td>\n",
              "      <td>Behind the design of Seattle's library</td>\n",
              "      <td>Joshua Prince-Ramus</td>\n",
              "      <td>{0: 'Joshua Prince-Ramus'}</td>\n",
              "      <td>{0: ['architect']}</td>\n",
              "      <td>{0: 'Joshua Prince-Ramus is best known as arch...</td>\n",
              "      <td>1208138</td>\n",
              "      <td>2006-02-23</td>\n",
              "      <td>2006-07-10</td>\n",
              "      <td>TED2006</td>\n",
              "      <td>en</td>\n",
              "      <td>['ar', 'bg', 'en', 'es', 'fr', 'he', 'it', 'ja...</td>\n",
              "      <td>48.0</td>\n",
              "      <td>1198</td>\n",
              "      <td>['architecture', 'collaboration', 'culture', '...</td>\n",
              "      <td>{750: 'Building a theater that remakes itself'...</td>\n",
              "      <td>https://www.ted.com/talks/joshua_prince_ramus_...</td>\n",
              "      <td>Architect Joshua Prince-Ramus takes the audien...</td>\n",
              "      <td>I'm going to present three projects in rapid f...</td>\n",
              "    </tr>\n",
              "    <tr>\n",
              "      <th>6</th>\n",
              "      <td>86</td>\n",
              "      <td>Letting go of God</td>\n",
              "      <td>Julia Sweeney</td>\n",
              "      <td>{0: 'Julia Sweeney'}</td>\n",
              "      <td>{0: ['actor', 'comedian', 'playwright']}</td>\n",
              "      <td>{0: 'Julia Sweeney creates comedic works that ...</td>\n",
              "      <td>4636596</td>\n",
              "      <td>2006-02-24</td>\n",
              "      <td>2006-07-10</td>\n",
              "      <td>TED2006</td>\n",
              "      <td>en</td>\n",
              "      <td>['ar', 'bg', 'cs', 'de', 'el', 'en', 'es', 'fa...</td>\n",
              "      <td>980.0</td>\n",
              "      <td>992</td>\n",
              "      <td>['Christianity', 'God', 'atheism', 'comedy', '...</td>\n",
              "      <td>{22: 'Why people believe weird things', 94: \"L...</td>\n",
              "      <td>https://www.ted.com/talks/julia_sweeney_lettin...</td>\n",
              "      <td>When two young Mormon missionaries knock on Ju...</td>\n",
              "      <td>On September 10, the morning of my seventh bir...</td>\n",
              "    </tr>\n",
              "    <tr>\n",
              "      <th>7</th>\n",
              "      <td>94</td>\n",
              "      <td>Let's teach religion -- all religion -- in sch...</td>\n",
              "      <td>Dan Dennett</td>\n",
              "      <td>{0: 'Dan Dennett'}</td>\n",
              "      <td>{0: ['philosopher', 'cognitive scientist']}</td>\n",
              "      <td>{0: 'Dan Dennett thinks that human consciousne...</td>\n",
              "      <td>3781244</td>\n",
              "      <td>2006-02-02</td>\n",
              "      <td>2006-07-18</td>\n",
              "      <td>TED2006</td>\n",
              "      <td>en</td>\n",
              "      <td>['ar', 'bg', 'cs', 'de', 'el', 'en', 'es', 'fa...</td>\n",
              "      <td>919.0</td>\n",
              "      <td>1485</td>\n",
              "      <td>['God', 'atheism', 'brain', 'cognitive science...</td>\n",
              "      <td>{71: 'A life of purpose', 2011: 'Is religion g...</td>\n",
              "      <td>https://www.ted.com/talks/dan_dennett_let_s_te...</td>\n",
              "      <td>Philosopher Dan Dennett calls for religion -- ...</td>\n",
              "      <td>It's wonderful to be back. I love this wonderf...</td>\n",
              "    </tr>\n",
              "    <tr>\n",
              "      <th>8</th>\n",
              "      <td>71</td>\n",
              "      <td>A life of purpose</td>\n",
              "      <td>Rick Warren</td>\n",
              "      <td>{0: 'Rick Warren'}</td>\n",
              "      <td>{0: ['pastor', 'author']}</td>\n",
              "      <td>{0: 'Pastor Rick Warren is the author of &lt;em&gt;T...</td>\n",
              "      <td>3998282</td>\n",
              "      <td>2006-02-25</td>\n",
              "      <td>2006-07-18</td>\n",
              "      <td>TED2006</td>\n",
              "      <td>en</td>\n",
              "      <td>['ar', 'bg', 'cs', 'de', 'el', 'en', 'es', 'fa...</td>\n",
              "      <td>930.0</td>\n",
              "      <td>1262</td>\n",
              "      <td>['Christianity', 'God', 'culture', 'happiness'...</td>\n",
              "      <td>{94: \"Let's teach religion -- all religion -- ...</td>\n",
              "      <td>https://www.ted.com/talks/rick_warren_a_life_o...</td>\n",
              "      <td>Pastor Rick Warren, author of \"The Purpose-Dri...</td>\n",
              "      <td>I'm often asked, \"What surprised you about the...</td>\n",
              "    </tr>\n",
              "    <tr>\n",
              "      <th>9</th>\n",
              "      <td>55</td>\n",
              "      <td>My wish: A global day of film</td>\n",
              "      <td>Jehane Noujaim</td>\n",
              "      <td>{0: 'Jehane Noujaim'}</td>\n",
              "      <td>{0: ['filmmaker']}</td>\n",
              "      <td>{0: 'TED Prize winner Jehane Noujaim is a guts...</td>\n",
              "      <td>460994</td>\n",
              "      <td>2006-02-26</td>\n",
              "      <td>2006-07-25</td>\n",
              "      <td>TED2006</td>\n",
              "      <td>en</td>\n",
              "      <td>['ar', 'bg', 'cs', 'en', 'es', 'fa', 'fr', 'he...</td>\n",
              "      <td>59.0</td>\n",
              "      <td>1538</td>\n",
              "      <td>['TED Prize', 'culture', 'entertainment', 'fil...</td>\n",
              "      <td>{2228: 'How virtual reality can create the ult...</td>\n",
              "      <td>https://www.ted.com/talks/jehane_noujaim_my_wi...</td>\n",
              "      <td>Jehane Noujaim unveils her 2006 TED Prize wish...</td>\n",
              "      <td>I can't help but this wish: to think about whe...</td>\n",
              "    </tr>\n",
              "  </tbody>\n",
              "</table>\n",
              "</div>"
            ],
            "text/plain": [
              "   talk_id  ...                                         transcript\n",
              "0        1  ...  Thank you so much, Chris. And it's truly a gre...\n",
              "1       92  ...  About 10 years ago, I took on the task to teac...\n",
              "2        7  ...  (Music: \"The Sound of Silence,\" Simon & Garfun...\n",
              "3       53  ...  If you're here today — and I'm very happy that...\n",
              "4       66  ...  Good morning. How are you? (Audience) Good. It...\n",
              "5       49  ...  I'm going to present three projects in rapid f...\n",
              "6       86  ...  On September 10, the morning of my seventh bir...\n",
              "7       94  ...  It's wonderful to be back. I love this wonderf...\n",
              "8       71  ...  I'm often asked, \"What surprised you about the...\n",
              "9       55  ...  I can't help but this wish: to think about whe...\n",
              "\n",
              "[10 rows x 19 columns]"
            ]
          },
          "metadata": {},
          "execution_count": 6
        }
      ]
    },
    {
      "cell_type": "code",
      "metadata": {
        "colab": {
          "base_uri": "https://localhost:8080/"
        },
        "id": "Com3PzvHp_Kn",
        "outputId": "d5c1fb8b-60d9-4632-e7e6-f10bd4864857"
      },
      "source": [
        "#checking for the shape of dataset \n",
        "df.shape"
      ],
      "execution_count": 7,
      "outputs": [
        {
          "output_type": "execute_result",
          "data": {
            "text/plain": [
              "(4005, 19)"
            ]
          },
          "metadata": {},
          "execution_count": 7
        }
      ]
    },
    {
      "cell_type": "code",
      "metadata": {
        "colab": {
          "base_uri": "https://localhost:8080/"
        },
        "id": "wDQGr5IKqHzP",
        "outputId": "0ef33226-c28d-44d4-99e7-880fee487a51"
      },
      "source": [
        "#checking the Null Values in dataset\n",
        "df.isna().sum()"
      ],
      "execution_count": 8,
      "outputs": [
        {
          "output_type": "execute_result",
          "data": {
            "text/plain": [
              "talk_id             0\n",
              "title               0\n",
              "speaker_1           0\n",
              "all_speakers        4\n",
              "occupations       522\n",
              "about_speakers    503\n",
              "views               0\n",
              "recorded_date       1\n",
              "published_date      0\n",
              "event               0\n",
              "native_lang         0\n",
              "available_lang      0\n",
              "comments          655\n",
              "duration            0\n",
              "topics              0\n",
              "related_talks       0\n",
              "url                 0\n",
              "description         0\n",
              "transcript          0\n",
              "dtype: int64"
            ]
          },
          "metadata": {},
          "execution_count": 8
        }
      ]
    },
    {
      "cell_type": "code",
      "metadata": {
        "id": "i0TGcysnqQp_"
      },
      "source": [
        ""
      ],
      "execution_count": null,
      "outputs": []
    }
  ]
}